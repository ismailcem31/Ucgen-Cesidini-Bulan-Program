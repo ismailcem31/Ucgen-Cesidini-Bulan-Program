{
 "cells": [
  {
   "cell_type": "code",
   "execution_count": null,
   "id": "cdc02df7",
   "metadata": {},
   "outputs": [],
   "source": [
    "kenar1 = int (input(\"Üçgenin birinci kenarını giriniz...\"))\n",
    "kenar2 = int (input(\"Üçgenin ikinci kenarını giriniz...\"))\n",
    "kenar3 = int (input(\"Üçgenin üçüncü kenarını giriniz...\"))\n",
    " \n",
    "if(abs(kenar2-kenar3)<kenar1 and kenar1<kenar2+kenar3 and abs(kenar3-kenar1)<kenar2 and kenar2<kenar1+kenar3 and abs(kenar1-kenar2)<kenar3 and kenar3<kenar1+kenar2):\n",
    "  if((kenar1==kenar2 and kenar1!=kenar3) or (kenar1==kenar3 and kenar1!=kenar3) or (kenar2==kenar3 and kenar2!=kenar1)):\n",
    "    print(\"İkizkenar Üçgen!\")\n",
    "  elif(kenar1==kenar2==kenar3):\n",
    "    print(\"Eşkenar Üçgen!\")\n",
    "  else:\n",
    "    print(\"Çeşitkenar Üçgen\")\n",
    "else:\n",
    "  print(\"Girdiğiniz Değerler Üçgen Oluşturmuyor\")"
   ]
  }
 ],
 "metadata": {
  "kernelspec": {
   "display_name": "Python 3 (ipykernel)",
   "language": "python",
   "name": "python3"
  },
  "language_info": {
   "codemirror_mode": {
    "name": "ipython",
    "version": 3
   },
   "file_extension": ".py",
   "mimetype": "text/x-python",
   "name": "python",
   "nbconvert_exporter": "python",
   "pygments_lexer": "ipython3",
   "version": "3.11.3"
  }
 },
 "nbformat": 4,
 "nbformat_minor": 5
}
